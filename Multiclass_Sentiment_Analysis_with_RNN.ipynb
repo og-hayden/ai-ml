{
  "nbformat": 4,
  "nbformat_minor": 0,
  "metadata": {
    "colab": {
      "provenance": [],
      "gpuType": "V100",
      "authorship_tag": "ABX9TyNu0YOfaqnUnuna6KlWV3VG",
      "include_colab_link": true
    },
    "kernelspec": {
      "name": "python3",
      "display_name": "Python 3"
    },
    "language_info": {
      "name": "python"
    },
    "accelerator": "GPU"
  },
  "cells": [
    {
      "cell_type": "markdown",
      "metadata": {
        "id": "view-in-github",
        "colab_type": "text"
      },
      "source": [
        "<a href=\"https://colab.research.google.com/github/og-hayden/ai-ml/blob/main/Multiclass_Sentiment_Analysis_with_RNN.ipynb\" target=\"_parent\"><img src=\"https://colab.research.google.com/assets/colab-badge.svg\" alt=\"Open In Colab\"/></a>"
      ]
    },
    {
      "cell_type": "markdown",
      "source": [
        "# Multiclass Sentiment Analysis with RNN"
      ],
      "metadata": {
        "id": "_N7P8HinWHbK"
      }
    },
    {
      "cell_type": "code",
      "source": [
        "import torch\n",
        "import torch.nn as nn\n",
        "import matplotlib.pyplot as plt\n",
        "import pandas as pd\n",
        "import numpy as np"
      ],
      "metadata": {
        "id": "QVSDrXOPYM-9"
      },
      "execution_count": 232,
      "outputs": []
    },
    {
      "cell_type": "code",
      "source": [
        "device = \"cuda\" if torch.cuda.is_available else \"cpu\""
      ],
      "metadata": {
        "id": "YM1w3i9Ybv0B"
      },
      "execution_count": 233,
      "outputs": []
    },
    {
      "cell_type": "markdown",
      "source": [
        "# 1. Preprocessing the Data"
      ],
      "metadata": {
        "id": "XDeIytiJbz-b"
      }
    },
    {
      "cell_type": "code",
      "source": [
        "from torch.utils.data import Dataset\n",
        "\n",
        "# Initializing custom dataset from training data .txt files\n",
        "class EmotionData(Dataset):\n",
        "  def __init__(self, folder):\n",
        "    self.data = []\n",
        "    self.labels = []\n",
        "    self.label_to_index = {'joy': 0, 'sadness': 1, 'anger': 2}\n",
        "    self.index_to_label = self.index_to_label = {v: k for k, v in self.label_to_index.items()} # reverse of `self.label_to_index`\n",
        "\n",
        "    # Loop over files and add them to dataset with correct labeling\n",
        "    for label in self.label_to_index:\n",
        "      file_path = f\"/{folder}/{label}.txt\" # File path for each emotion\n",
        "      with open(file_path, 'r') as file:\n",
        "        words = file.read().splitlines() # Returns list of words\n",
        "        self.data.extend(words) # Add `words` list to data\n",
        "        self.labels.extend([self.label_to_index[label]] * len(words)) # Add corrosponding labels to data\n",
        "\n",
        "  # Length method\n",
        "  def __len__(self):\n",
        "    return len(self.data)\n",
        "\n",
        "  # Search dataset by index method\n",
        "  def __getitem__(self, index):\n",
        "    return self.data[index], self.labels[index]"
      ],
      "metadata": {
        "id": "TOIri2a0cR45"
      },
      "execution_count": 234,
      "outputs": []
    },
    {
      "cell_type": "code",
      "source": [
        "# Initializing the datasets\n",
        "training_dataset = EmotionData(\"training-data\")\n",
        "testing_dataset = EmotionData(\"testing-data\")"
      ],
      "metadata": {
        "id": "uqPfmgyTebo9"
      },
      "execution_count": 235,
      "outputs": []
    },
    {
      "cell_type": "code",
      "source": [
        "# Number of characters in longest word\n",
        "max_train_length = max(len(word) for word, _ in training_dataset)\n",
        "max_test_length = max(len(word) for word, _ in testing_dataset)\n",
        "max_length = max(max_train_length, max_test_length)"
      ],
      "metadata": {
        "id": "OFdLqBfwoOpZ"
      },
      "execution_count": 236,
      "outputs": []
    },
    {
      "cell_type": "code",
      "source": [
        "from torch.nn.utils.rnn import pad_sequence\n",
        "\n",
        "CHARS = sorted(set(\"abcdefghijklmnopqrstuvwxyz\")) # List of possible characters\n",
        "\n",
        "def word_to_matrix(word, chars=CHARS, max_length=max_length):\n",
        "    # Initialize a zero tensor with the shape of (max_length, len(chars))\n",
        "    tensor = torch.zeros((max_length, len(chars)), dtype=torch.float)\n",
        "    for i, letter in enumerate(word.lower()):\n",
        "        if letter in chars:\n",
        "            tensor[i, chars.index(letter)] = 1\n",
        "    return tensor"
      ],
      "metadata": {
        "id": "nFR3GUaAe6-o"
      },
      "execution_count": 237,
      "outputs": []
    },
    {
      "cell_type": "code",
      "source": [
        "word_to_matrix(\"Hello\")"
      ],
      "metadata": {
        "colab": {
          "base_uri": "https://localhost:8080/"
        },
        "id": "gINxLz6Apn_C",
        "outputId": "c8c9f311-57f4-40d5-85bd-3fcb8cee16b1"
      },
      "execution_count": 238,
      "outputs": [
        {
          "output_type": "execute_result",
          "data": {
            "text/plain": [
              "tensor([[0., 0., 0., 0., 0., 0., 0., 1., 0., 0., 0., 0., 0., 0., 0., 0., 0., 0.,\n",
              "         0., 0., 0., 0., 0., 0., 0., 0.],\n",
              "        [0., 0., 0., 0., 1., 0., 0., 0., 0., 0., 0., 0., 0., 0., 0., 0., 0., 0.,\n",
              "         0., 0., 0., 0., 0., 0., 0., 0.],\n",
              "        [0., 0., 0., 0., 0., 0., 0., 0., 0., 0., 0., 1., 0., 0., 0., 0., 0., 0.,\n",
              "         0., 0., 0., 0., 0., 0., 0., 0.],\n",
              "        [0., 0., 0., 0., 0., 0., 0., 0., 0., 0., 0., 1., 0., 0., 0., 0., 0., 0.,\n",
              "         0., 0., 0., 0., 0., 0., 0., 0.],\n",
              "        [0., 0., 0., 0., 0., 0., 0., 0., 0., 0., 0., 0., 0., 0., 1., 0., 0., 0.,\n",
              "         0., 0., 0., 0., 0., 0., 0., 0.],\n",
              "        [0., 0., 0., 0., 0., 0., 0., 0., 0., 0., 0., 0., 0., 0., 0., 0., 0., 0.,\n",
              "         0., 0., 0., 0., 0., 0., 0., 0.],\n",
              "        [0., 0., 0., 0., 0., 0., 0., 0., 0., 0., 0., 0., 0., 0., 0., 0., 0., 0.,\n",
              "         0., 0., 0., 0., 0., 0., 0., 0.],\n",
              "        [0., 0., 0., 0., 0., 0., 0., 0., 0., 0., 0., 0., 0., 0., 0., 0., 0., 0.,\n",
              "         0., 0., 0., 0., 0., 0., 0., 0.],\n",
              "        [0., 0., 0., 0., 0., 0., 0., 0., 0., 0., 0., 0., 0., 0., 0., 0., 0., 0.,\n",
              "         0., 0., 0., 0., 0., 0., 0., 0.],\n",
              "        [0., 0., 0., 0., 0., 0., 0., 0., 0., 0., 0., 0., 0., 0., 0., 0., 0., 0.,\n",
              "         0., 0., 0., 0., 0., 0., 0., 0.],\n",
              "        [0., 0., 0., 0., 0., 0., 0., 0., 0., 0., 0., 0., 0., 0., 0., 0., 0., 0.,\n",
              "         0., 0., 0., 0., 0., 0., 0., 0.],\n",
              "        [0., 0., 0., 0., 0., 0., 0., 0., 0., 0., 0., 0., 0., 0., 0., 0., 0., 0.,\n",
              "         0., 0., 0., 0., 0., 0., 0., 0.],\n",
              "        [0., 0., 0., 0., 0., 0., 0., 0., 0., 0., 0., 0., 0., 0., 0., 0., 0., 0.,\n",
              "         0., 0., 0., 0., 0., 0., 0., 0.],\n",
              "        [0., 0., 0., 0., 0., 0., 0., 0., 0., 0., 0., 0., 0., 0., 0., 0., 0., 0.,\n",
              "         0., 0., 0., 0., 0., 0., 0., 0.],\n",
              "        [0., 0., 0., 0., 0., 0., 0., 0., 0., 0., 0., 0., 0., 0., 0., 0., 0., 0.,\n",
              "         0., 0., 0., 0., 0., 0., 0., 0.],\n",
              "        [0., 0., 0., 0., 0., 0., 0., 0., 0., 0., 0., 0., 0., 0., 0., 0., 0., 0.,\n",
              "         0., 0., 0., 0., 0., 0., 0., 0.],\n",
              "        [0., 0., 0., 0., 0., 0., 0., 0., 0., 0., 0., 0., 0., 0., 0., 0., 0., 0.,\n",
              "         0., 0., 0., 0., 0., 0., 0., 0.]])"
            ]
          },
          "metadata": {},
          "execution_count": 238
        }
      ]
    },
    {
      "cell_type": "markdown",
      "source": [
        "# 2. Defining the Model"
      ],
      "metadata": {
        "id": "25_wV_3Bg3Ea"
      }
    },
    {
      "cell_type": "code",
      "source": [
        "class EmotionRNN(nn.Module):\n",
        "  def __init__(self):\n",
        "    super().__init__()\n",
        "    self.rnn = nn.RNN(input_size=26, hidden_size=128, batch_first=True) # `batch_first=True` denotes an input shape representing (batch_size, seq_length, features)\n",
        "    self.fc = nn.Linear(in_features=128, out_features=3) # Outputs logits\n",
        "  def forward(self, x):\n",
        "    out, _ = self.rnn(x)\n",
        "    out = self.fc(out[:, -1, :]) # Get last step output for classification (batch_size, seq_length, features)\n",
        "    return out"
      ],
      "metadata": {
        "id": "9wvuCfCkimlW"
      },
      "execution_count": 239,
      "outputs": []
    },
    {
      "cell_type": "code",
      "source": [
        "model = EmotionRNN().to(device)"
      ],
      "metadata": {
        "id": "VE475U-CkTxQ"
      },
      "execution_count": 240,
      "outputs": []
    },
    {
      "cell_type": "markdown",
      "source": [
        "# 3. Picking a Loss Function and Optimizer"
      ],
      "metadata": {
        "id": "rkgEWGEQkWJc"
      }
    },
    {
      "cell_type": "code",
      "source": [
        "loss_fn = nn.CrossEntropyLoss() # Input: raw logit vector, true label\n",
        "optimizer = torch.optim.Adam(params=model.parameters(),\n",
        "                             lr=0.01)"
      ],
      "metadata": {
        "id": "rEW-pp0YkbH3"
      },
      "execution_count": 241,
      "outputs": []
    },
    {
      "cell_type": "markdown",
      "source": [
        "# 4. Building a Training Loop"
      ],
      "metadata": {
        "id": "TUaFXOrYlSgy"
      }
    },
    {
      "cell_type": "code",
      "source": [
        "from torch.utils.data import DataLoader\n",
        "\n",
        "train_dataloader = DataLoader(training_dataset, batch_size=64, shuffle=True)\n",
        "test_dataloader = DataLoader(testing_dataset, batch_size=64, shuffle=True)\n",
        "\n",
        "epochs = 500\n",
        "\n",
        "for epoch in range(epochs):\n",
        "  train_loss = 0\n",
        "  test_loss = 0\n",
        "\n",
        "  # Model training\n",
        "  model.train()\n",
        "  for words, labels in train_dataloader:\n",
        "    # Convert words to one-hot matrices\n",
        "    words_tensor = pad_sequence([word_to_matrix(w) for w in words],\n",
        "                                batch_first=True).to(device)\n",
        "    labels = labels.to(dtype=torch.long, device=device)\n",
        "\n",
        "    outputs = model(words_tensor)\n",
        "    loss = loss_fn(outputs, labels)\n",
        "    train_loss = train_loss + loss.item()\n",
        "\n",
        "    optimizer.zero_grad()\n",
        "    loss.backward()\n",
        "    optimizer.step()\n",
        "\n",
        "  # Model testing\n",
        "  model.eval()\n",
        "  for t_words, labels in test_dataloader:\n",
        "    # Convert words to one-hot matrices\n",
        "    words_tensor = pad_sequence([word_to_matrix(w) for w in t_words],\n",
        "                                batch_first=True).to(device)\n",
        "    labels = labels.to(dtype=torch.long, device=device)\n",
        "    with torch.inference_mode():\n",
        "      outputs = model(words_tensor)\n",
        "    loss = loss_fn(outputs, labels)\n",
        "    test_loss = test_loss + loss.item()\n",
        "\n",
        "  # Normalizing loss\n",
        "  train_loss /= len(words)\n",
        "  test_loss /= len(t_words)\n",
        "\n",
        "  # Printing losses\n",
        "  if (epoch+1) % 50 == 0:\n",
        "    print(f'Epoch [{epoch+1}/{epochs}], Loss: {train_loss:.4f}, Test Loss: {test_loss:.4f}')"
      ],
      "metadata": {
        "colab": {
          "base_uri": "https://localhost:8080/"
        },
        "id": "XQTV76ijlggt",
        "outputId": "101e2fcc-0750-4eed-dfc2-cff7cc567331"
      },
      "execution_count": 242,
      "outputs": [
        {
          "output_type": "stream",
          "name": "stdout",
          "text": [
            "Epoch [50/500], Loss: 0.1960, Test Loss: 0.2238\n",
            "Epoch [100/500], Loss: 0.2016, Test Loss: 0.2282\n",
            "Epoch [150/500], Loss: 0.2088, Test Loss: 0.2324\n",
            "Epoch [200/500], Loss: 0.1995, Test Loss: 0.2230\n",
            "Epoch [250/500], Loss: 0.2003, Test Loss: 0.2467\n",
            "Epoch [300/500], Loss: 0.2058, Test Loss: 0.2214\n",
            "Epoch [350/500], Loss: 0.2011, Test Loss: 0.2338\n",
            "Epoch [400/500], Loss: 0.2078, Test Loss: 0.2729\n",
            "Epoch [450/500], Loss: 0.2054, Test Loss: 0.2253\n",
            "Epoch [500/500], Loss: 0.2050, Test Loss: 0.2273\n"
          ]
        }
      ]
    },
    {
      "cell_type": "code",
      "source": [],
      "metadata": {
        "id": "ymQYab6tntGi"
      },
      "execution_count": 242,
      "outputs": []
    }
  ]
}